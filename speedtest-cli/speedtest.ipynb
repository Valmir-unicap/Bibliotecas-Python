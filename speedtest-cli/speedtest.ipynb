{
 "cells": [
  {
   "cell_type": "markdown",
   "id": "9fc20976",
   "metadata": {},
   "source": [
    "SpeedTest com Python"
   ]
  },
  {
   "cell_type": "code",
   "execution_count": 1,
   "id": "2846d8b5",
   "metadata": {
    "scrolled": true
   },
   "outputs": [
    {
     "name": "stdout",
     "output_type": "stream",
     "text": [
      "Collecting speedtest-cli\n",
      "  Downloading speedtest_cli-2.1.3-py2.py3-none-any.whl (23 kB)\n",
      "Installing collected packages: speedtest-cli\n",
      "Successfully installed speedtest-cli-2.1.3\n",
      "Note: you may need to restart the kernel to use updated packages.\n"
     ]
    }
   ],
   "source": [
    "pip install speedtest-cli"
   ]
  },
  {
   "cell_type": "code",
   "execution_count": 11,
   "id": "c042cde7",
   "metadata": {},
   "outputs": [],
   "source": [
    "import speedtest\n",
    "test= speedtest.Speedtest()"
   ]
  },
  {
   "cell_type": "code",
   "execution_count": 18,
   "id": "90938e40",
   "metadata": {},
   "outputs": [
    {
     "name": "stdout",
     "output_type": "stream",
     "text": [
      "Velocidade de Download =  50648636\n",
      "Velocidade de Upload =  27088998\n"
     ]
    }
   ],
   "source": [
    "down= test.download()\n",
    "down= round(down)\n",
    "upload= test.upload()\n",
    "upload= round(upload)\n",
    "print(\"Velocidade de Download = \",down)\n",
    "print(\"Velocidade de Upload = \",upload)"
   ]
  }
 ],
 "metadata": {
  "kernelspec": {
   "display_name": "Python 3 (ipykernel)",
   "language": "python",
   "name": "python3"
  },
  "language_info": {
   "codemirror_mode": {
    "name": "ipython",
    "version": 3
   },
   "file_extension": ".py",
   "mimetype": "text/x-python",
   "name": "python",
   "nbconvert_exporter": "python",
   "pygments_lexer": "ipython3",
   "version": "3.9.12"
  }
 },
 "nbformat": 4,
 "nbformat_minor": 5
}
