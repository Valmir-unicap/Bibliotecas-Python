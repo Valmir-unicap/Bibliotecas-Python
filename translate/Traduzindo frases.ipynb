{
 "cells": [
  {
   "cell_type": "markdown",
   "id": "6dcf413f",
   "metadata": {},
   "source": [
    "Tradução de Português para Inglês"
   ]
  },
  {
   "cell_type": "code",
   "execution_count": null,
   "id": "5de32d6a",
   "metadata": {
    "collapsed": true,
    "scrolled": true
   },
   "outputs": [],
   "source": [
    "pip install translate"
   ]
  },
  {
   "cell_type": "code",
   "execution_count": null,
   "id": "ce5abb62",
   "metadata": {
    "collapsed": true,
    "scrolled": true
   },
   "outputs": [],
   "source": [
    "from translate import Translator"
   ]
  },
  {
   "cell_type": "code",
   "execution_count": 28,
   "id": "03ea896c",
   "metadata": {
    "scrolled": true
   },
   "outputs": [
    {
     "name": "stdout",
     "output_type": "stream",
     "text": [
      "Tradução de english para Espanhol\n"
     ]
    }
   ],
   "source": [
    "print(\"Tradução de português para inglês\")\n",
    "s= Translator(from_lang= \"portuguese\",to_lang= \"english\")"
   ]
  },
  {
   "cell_type": "code",
   "execution_count": 32,
   "id": "c1a57d4b",
   "metadata": {
    "scrolled": true
   },
   "outputs": [
    {
     "name": "stdout",
     "output_type": "stream",
     "text": [
      "Digite o que deseja traduzir: café\n",
      "coffee smiley\n"
     ]
    }
   ],
   "source": [
    "palavra = str(input(\"Digite o que deseja traduzir: \"))\n",
    "res= s.translate(palavra)\n",
    "print(res)"
   ]
  },
  {
   "cell_type": "markdown",
   "id": "48b3f004",
   "metadata": {},
   "source": [
    "Tradução de English para Espanhol"
   ]
  },
  {
   "cell_type": "code",
   "execution_count": 33,
   "id": "e0666aea",
   "metadata": {},
   "outputs": [
    {
     "name": "stdout",
     "output_type": "stream",
     "text": [
      "Tradução de English para Espanhol\n"
     ]
    }
   ],
   "source": [
    "print(\"Tradução de English para Espanhol\")\n",
    "s= Translator(from_lang= \"english\",to_lang= \"Spanish\")"
   ]
  },
  {
   "cell_type": "code",
   "execution_count": 34,
   "id": "b40f9cdc",
   "metadata": {},
   "outputs": [
    {
     "name": "stdout",
     "output_type": "stream",
     "text": [
      "Digite o que deseja traduzir: good night\n",
      "buenas noches\n"
     ]
    }
   ],
   "source": [
    "palavra2 = str(input(\"Digite o que deseja traduzir: \"))\n",
    "res= s.translate(palavra2)\n",
    "print(res)"
   ]
  }
 ],
 "metadata": {
  "kernelspec": {
   "display_name": "Python 3 (ipykernel)",
   "language": "python",
   "name": "python3"
  },
  "language_info": {
   "codemirror_mode": {
    "name": "ipython",
    "version": 3
   },
   "file_extension": ".py",
   "mimetype": "text/x-python",
   "name": "python",
   "nbconvert_exporter": "python",
   "pygments_lexer": "ipython3",
   "version": "3.9.12"
  }
 },
 "nbformat": 4,
 "nbformat_minor": 5
}
